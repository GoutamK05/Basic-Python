{
  "nbformat": 4,
  "nbformat_minor": 0,
  "metadata": {
    "colab": {
      "provenance": []
    },
    "kernelspec": {
      "name": "python3",
      "display_name": "Python 3"
    },
    "language_info": {
      "name": "python"
    }
  },
  "cells": [
    {
      "cell_type": "markdown",
      "source": [
        "Q1. What is python and why it is popular?\n",
        "\n",
        "\n",
        "ans: python is a high level language, easy to use, and it is object oreinted language, easy to learn, writing programs in python almost feels like writing english, python is easily readable and clearly defined.\n",
        " python is popular because it is open source, anyone can contribute it read the source code and use it to build different projects, it has very vast community.\n",
        "\n"
      ],
      "metadata": {
        "id": "hGue-1qnKOZs"
      }
    },
    {
      "cell_type": "markdown",
      "source": [
        "Q2.what is interpreter in python?\n",
        "\n",
        "ans: interpreter translate code line by line during the run time, it is slower because translation happens during the runtime, it stops executing if it finds the first error unlike the compiler which translates the entire program at once and detects many errors before running, interpreter is good for debugging purposes, and rapid development."
      ],
      "metadata": {
        "id": "5pLt-M9QMJFl"
      }
    },
    {
      "cell_type": "code",
      "execution_count": null,
      "metadata": {
        "id": "Ej0kNGgiIKAg"
      },
      "outputs": [],
      "source": []
    },
    {
      "cell_type": "markdown",
      "source": [
        "Q3. what are predefined keywords in python?\n",
        "\n",
        "ans: keywords are the reserved words in python which have special meaning and which cannot be used as a variable names, example for,if,while,True,False etc"
      ],
      "metadata": {
        "id": "qWBiKS54M83I"
      }
    },
    {
      "cell_type": "code",
      "source": [],
      "metadata": {
        "id": "pODOCGO4MBCa"
      },
      "execution_count": null,
      "outputs": []
    },
    {
      "cell_type": "markdown",
      "source": [
        "Q4 can keywords be used as a variable names?\n",
        "\n",
        "ans: No keywords cannot be used as a variable names, because they have predefined meaning in the language."
      ],
      "metadata": {
        "id": "QhMxYkmPOFKi"
      }
    },
    {
      "cell_type": "markdown",
      "source": [
        "Q5. what is mutability in python?\n",
        "\n",
        "ans: mutability means whether an object's value can be changed after its creation, mutable means it can change, immutable means it cannot be changed(eg tuples, strings etc)"
      ],
      "metadata": {
        "id": "xKY0OJ2rOVu8"
      }
    },
    {
      "cell_type": "markdown",
      "source": [
        "Q6. Why are lists mutable, but tuples are immutable?\n",
        "\n",
        "Ans: lists are designed to be flexible and allow modifications like a shopping list, whereas tuples are designed to store fixed values, tuple is a read only data type while list is not."
      ],
      "metadata": {
        "id": "RgAic_24O5Tc"
      }
    },
    {
      "cell_type": "markdown",
      "source": [
        "Q7. Difference between == and is operators in Python?\n",
        "\n",
        "ans: == compares the values\n",
        " while \"is\" compares the memory loction(whether both variables point to the same object like that)"
      ],
      "metadata": {
        "id": "xYe_yCkgQEMP"
      }
    },
    {
      "cell_type": "markdown",
      "source": [
        "Q8. What are logical operators in Python?\n",
        "\n",
        "\n",
        "ans: python supports 3 logical operators that is logical AND, logical OR, logical NOT\n",
        "\n",
        "logical AND(&&)- it evaluates two conditions, if the left and right side of this operator is True, then it will give output as True.\n",
        "\n",
        "logical OR( || )- If anyone of the condition or both conditions are true, the output will be True.\n",
        "\n",
        "Logical NOT (!)- it takes single expression and negates the value of the expression, it produces 0 or 1 as an output, if the expression is nonzero it will give 0 as an output and viceversa."
      ],
      "metadata": {
        "id": "QNdyR9eXQanx"
      }
    },
    {
      "cell_type": "markdown",
      "source": [
        "Q9. What is type casting in python?\n",
        "\n",
        "\n",
        "Ans: converting one datatype to another in python is called type casting in python. It is useful when we have to accept a non string value as an input to perform calculations on them."
      ],
      "metadata": {
        "id": "i1sZMmyiRvvB"
      }
    },
    {
      "cell_type": "markdown",
      "source": [
        "Q10. difference between imlicit and explicit typecasting.\n",
        "\n",
        "ans: In implicit type casting python converts the types for ex: during addition it converts int values to float.\n",
        "\n",
        "explicit- in this programmer manually converts using functions like int(),float() etc.\n"
      ],
      "metadata": {
        "id": "nQpux5rsSlJ2"
      }
    },
    {
      "cell_type": "markdown",
      "source": [
        "Q11.  Purpose of conditional statements in Python?\n",
        "\n",
        "ans: to execute the code blocks based upon condition satisfied, they are three types, if-else, if-elif-else, nested if else."
      ],
      "metadata": {
        "id": "4yhPksxtW0nW"
      }
    },
    {
      "cell_type": "markdown",
      "source": [
        "Q12. How does the elif statement work?\n",
        "\n",
        "Ans: it executes when the previous if condition is false, elif= else if."
      ],
      "metadata": {
        "id": "D83wa59laluh"
      }
    },
    {
      "cell_type": "markdown",
      "source": [
        "Q13. Difference between for and while loops?\n",
        "\n",
        "Ans:while- it executes the block of code until the condition is met.\n",
        "\n",
        "for- it executes the block of code with fixed number of repetitions.\n"
      ],
      "metadata": {
        "id": "4t2n0YK_dHQd"
      }
    },
    {
      "cell_type": "markdown",
      "source": [
        "Q14. Scenario where while loop is better than for loop.\n",
        "\n",
        "ans: When we dont know how many times we need to loop example: reading user input until they type “exit”."
      ],
      "metadata": {
        "id": "-f1HhTwQeEOs"
      }
    },
    {
      "cell_type": "markdown",
      "source": [],
      "metadata": {
        "id": "3rKdsB2rSit9"
      }
    },
    {
      "cell_type": "markdown",
      "source": [
        "Practical Questions\n",
        "\n",
        "Q1 Print Hello world!"
      ],
      "metadata": {
        "id": "0ZrGy9o4eacG"
      }
    },
    {
      "cell_type": "code",
      "source": [
        "print(\"Hello World!\")"
      ],
      "metadata": {
        "colab": {
          "base_uri": "https://localhost:8080/"
        },
        "id": "x9Gzr4CSeYaL",
        "outputId": "4339b26a-4dcd-48c9-bc7b-6d3d1c123ebd"
      },
      "execution_count": 2,
      "outputs": [
        {
          "output_type": "stream",
          "name": "stdout",
          "text": [
            "Hello World!\n"
          ]
        }
      ]
    },
    {
      "cell_type": "markdown",
      "source": [
        "Q2.Write a Python program that displays your name and age8"
      ],
      "metadata": {
        "id": "avVjI1epe4Cq"
      }
    },
    {
      "cell_type": "code",
      "source": [
        "name= input(\"enter your name: \")\n",
        "age= int(input(\"enter your age: \"))\n",
        "print(\"my name is\",name,\"and my age is\",age)"
      ],
      "metadata": {
        "colab": {
          "base_uri": "https://localhost:8080/"
        },
        "id": "R0rSSbWoe3Df",
        "outputId": "21ef3c41-c1f9-4f68-8cc0-ce6e75e67abe"
      },
      "execution_count": 4,
      "outputs": [
        {
          "output_type": "stream",
          "name": "stdout",
          "text": [
            "enter your name: goutam\n",
            "enter your age: 22\n",
            "my name is goutam and my age is 22\n"
          ]
        }
      ]
    },
    {
      "cell_type": "markdown",
      "source": [
        "Q3.Write code to print all the pre-defined keywords in Python using the keyword library"
      ],
      "metadata": {
        "id": "E6eR_KbFfbMk"
      }
    },
    {
      "cell_type": "code",
      "source": [
        "import keyword\n",
        "print(keyword.kwlist)"
      ],
      "metadata": {
        "colab": {
          "base_uri": "https://localhost:8080/"
        },
        "id": "6a5-tgl2fjXm",
        "outputId": "ddc93b7c-fe1f-4765-9c26-f1e06d389c8a"
      },
      "execution_count": 5,
      "outputs": [
        {
          "output_type": "stream",
          "name": "stdout",
          "text": [
            "['False', 'None', 'True', 'and', 'as', 'assert', 'async', 'await', 'break', 'class', 'continue', 'def', 'del', 'elif', 'else', 'except', 'finally', 'for', 'from', 'global', 'if', 'import', 'in', 'is', 'lambda', 'nonlocal', 'not', 'or', 'pass', 'raise', 'return', 'try', 'while', 'with', 'yield']\n"
          ]
        }
      ]
    },
    {
      "cell_type": "markdown",
      "source": [
        "Q4. Write a program that checks if a given word is a Python keyword."
      ],
      "metadata": {
        "id": "9nYFrHGNeZhF"
      }
    },
    {
      "cell_type": "code",
      "source": [
        "given_word= input(\"enter a word: \")\n",
        "if given_word in keyword.kwlist:\n",
        "  print(given_word,\"is a keyword\")\n",
        "else:\n",
        "  print(given_word,\"is not a keyword\")"
      ],
      "metadata": {
        "colab": {
          "base_uri": "https://localhost:8080/"
        },
        "id": "IGDcXX0agZqF",
        "outputId": "40d89a3f-42a5-4fb0-8152-015af2775849"
      },
      "execution_count": 7,
      "outputs": [
        {
          "output_type": "stream",
          "name": "stdout",
          "text": [
            "enter a word: True\n",
            "True is a keyword\n"
          ]
        }
      ]
    },
    {
      "cell_type": "markdown",
      "source": [
        "Q5. Create a list and tuple in Python, and demonstrate how attempting to change an element works differently\n",
        "for each"
      ],
      "metadata": {
        "id": "cL1rXjEQgylk"
      }
    },
    {
      "cell_type": "code",
      "source": [
        "my_list=[1,2,3,4,5]\n",
        "my_tuple=(1,2,3,4,5)\n",
        "my_list[0]=10\n",
        "print(\"list after change: \", my_list)\n",
        "\n",
        "my_tuple[0]=10\n",
        "print(\"tuple after change: \", my_tuple) #gives Type Error"
      ],
      "metadata": {
        "colab": {
          "base_uri": "https://localhost:8080/",
          "height": 217
        },
        "id": "UQedvGy9g5bY",
        "outputId": "1bc5d875-a0a3-4b0d-efd9-f39355110262"
      },
      "execution_count": 10,
      "outputs": [
        {
          "output_type": "stream",
          "name": "stdout",
          "text": [
            "list after change:  [10, 2, 3, 4, 5]\n"
          ]
        },
        {
          "output_type": "error",
          "ename": "TypeError",
          "evalue": "'tuple' object does not support item assignment",
          "traceback": [
            "\u001b[0;31m---------------------------------------------------------------------------\u001b[0m",
            "\u001b[0;31mTypeError\u001b[0m                                 Traceback (most recent call last)",
            "\u001b[0;32m/tmp/ipython-input-2029864444.py\u001b[0m in \u001b[0;36m<cell line: 0>\u001b[0;34m()\u001b[0m\n\u001b[1;32m      4\u001b[0m \u001b[0mprint\u001b[0m\u001b[0;34m(\u001b[0m\u001b[0;34m\"list after change: \"\u001b[0m\u001b[0;34m,\u001b[0m \u001b[0mmy_list\u001b[0m\u001b[0;34m)\u001b[0m\u001b[0;34m\u001b[0m\u001b[0;34m\u001b[0m\u001b[0m\n\u001b[1;32m      5\u001b[0m \u001b[0;34m\u001b[0m\u001b[0m\n\u001b[0;32m----> 6\u001b[0;31m \u001b[0mmy_tuple\u001b[0m\u001b[0;34m[\u001b[0m\u001b[0;36m0\u001b[0m\u001b[0;34m]\u001b[0m\u001b[0;34m=\u001b[0m\u001b[0;36m10\u001b[0m\u001b[0;34m\u001b[0m\u001b[0;34m\u001b[0m\u001b[0m\n\u001b[0m\u001b[1;32m      7\u001b[0m \u001b[0mprint\u001b[0m\u001b[0;34m(\u001b[0m\u001b[0;34m\"tuple after change: \"\u001b[0m\u001b[0;34m,\u001b[0m \u001b[0mmy_tuple\u001b[0m\u001b[0;34m)\u001b[0m \u001b[0;31m#gives Type Error\u001b[0m\u001b[0;34m\u001b[0m\u001b[0;34m\u001b[0m\u001b[0m\n",
            "\u001b[0;31mTypeError\u001b[0m: 'tuple' object does not support item assignment"
          ]
        }
      ]
    },
    {
      "cell_type": "markdown",
      "source": [
        "Q6. Write a function to demonstrate the behavior of mutable and immutable arguments."
      ],
      "metadata": {
        "id": "HG-TgVDmhoUT"
      }
    },
    {
      "cell_type": "code",
      "source": [],
      "metadata": {
        "id": "8yLtDYE5hw0U"
      },
      "execution_count": null,
      "outputs": []
    },
    {
      "cell_type": "markdown",
      "source": [
        "Q7.  Write a program that performs basic arithmetic operations on two user-input numbers"
      ],
      "metadata": {
        "id": "eS9ThYVljRyq"
      }
    },
    {
      "cell_type": "code",
      "source": [
        "a= int(input(\"enter the 1st number: \"))\n",
        "b=int(input(\"enter the 2nd number: \"))\n",
        "print(\"Addition of these two is: \",a+b)\n",
        "print(\"Subtraction of these two is: \",a-b)\n",
        "print(\"Multiplication of these two is: \",a*b)\n",
        "print(\"Division of these two is: \",a/b)"
      ],
      "metadata": {
        "colab": {
          "base_uri": "https://localhost:8080/"
        },
        "id": "RKEjWglvjYN2",
        "outputId": "e40d8541-b11a-4f48-f07f-8de49968cc90"
      },
      "execution_count": 11,
      "outputs": [
        {
          "output_type": "stream",
          "name": "stdout",
          "text": [
            "enter the 1st number: 2\n",
            "enter the 2nd number: 3\n",
            "Addition of these two is:  5\n",
            "Subtraction of these two is:  -1\n",
            "Multiplication of these two is:  6\n",
            "Division of these two is:  0.6666666666666666\n"
          ]
        }
      ]
    },
    {
      "cell_type": "markdown",
      "source": [
        "Q8.  Write a program to demonstrate the use of logical operators"
      ],
      "metadata": {
        "id": "d6K6DaJOjtLl"
      }
    },
    {
      "cell_type": "code",
      "source": [
        "x= True\n",
        "y= False\n",
        "print(x and y)\n",
        "print(x or y)\n",
        "print(not x, not y)"
      ],
      "metadata": {
        "colab": {
          "base_uri": "https://localhost:8080/"
        },
        "id": "ox_70e7Oj0cb",
        "outputId": "fe277b4d-c53b-45f4-d9dd-21ae168b031f"
      },
      "execution_count": 15,
      "outputs": [
        {
          "output_type": "stream",
          "name": "stdout",
          "text": [
            "False\n",
            "True\n",
            "False True\n"
          ]
        }
      ]
    },
    {
      "cell_type": "markdown",
      "source": [
        "Q9. Write a Python program to convert user input from string to integer, float, and boolean types."
      ],
      "metadata": {
        "id": "FwpwPuRgkNCM"
      }
    },
    {
      "cell_type": "code",
      "source": [
        "user_input= input(\"enter your input: \")\n",
        "print(int(user_input)) #works only when user_input is integer value\n",
        "print(float(user_input)) #works only when user_input is integer value\n",
        "print(bool(user_input)) #works only when user_input is integer value"
      ],
      "metadata": {
        "colab": {
          "base_uri": "https://localhost:8080/"
        },
        "id": "u278RkwOk05A",
        "outputId": "4a6690d2-92c2-4699-9ba7-998779ad3f06"
      },
      "execution_count": 18,
      "outputs": [
        {
          "output_type": "stream",
          "name": "stdout",
          "text": [
            "enter your input: 123\n",
            "123\n",
            "123.0\n",
            "True\n"
          ]
        }
      ]
    },
    {
      "cell_type": "markdown",
      "source": [
        "Q10. Write code to demonstrate type casting with list elements"
      ],
      "metadata": {
        "id": "jfH7Ba1TlXFW"
      }
    },
    {
      "cell_type": "code",
      "source": [
        "given_list=[\"1\",\"2\",\"3\",\"4\"]\n"
      ],
      "metadata": {
        "id": "VwBCHtJKljm9"
      },
      "execution_count": null,
      "outputs": []
    },
    {
      "cell_type": "markdown",
      "source": [
        "Q11. Write a program that checks if a number is positive, negative, or zero"
      ],
      "metadata": {
        "id": "X_9nBXkXmPcV"
      }
    },
    {
      "cell_type": "code",
      "source": [
        "num=int(input(\"enter the number: \"))\n",
        "if num>0:\n",
        "  print(\"number is positive\")\n",
        "elif num<0:\n",
        "  print(\"number is negative\")\n",
        "else:\n",
        "  print(\"number is zero\")"
      ],
      "metadata": {
        "colab": {
          "base_uri": "https://localhost:8080/"
        },
        "id": "h84hWJOlmY37",
        "outputId": "8d1b917f-9f61-4fd2-d73e-71873f5500b3"
      },
      "execution_count": 23,
      "outputs": [
        {
          "output_type": "stream",
          "name": "stdout",
          "text": [
            "enter the number: 1\n",
            "number is positive\n"
          ]
        }
      ]
    },
    {
      "cell_type": "markdown",
      "source": [
        "Q12. Write a for loop to print numbers from 1 to 10."
      ],
      "metadata": {
        "id": "87OLewugnB_p"
      }
    },
    {
      "cell_type": "code",
      "source": [
        "for i in range(1,11):\n",
        "  print(i, end=\" \")\n"
      ],
      "metadata": {
        "colab": {
          "base_uri": "https://localhost:8080/"
        },
        "id": "oaoYDVqDnGpX",
        "outputId": "68bf1a4d-655c-49b7-caac-17899b79e06f"
      },
      "execution_count": 26,
      "outputs": [
        {
          "output_type": "stream",
          "name": "stdout",
          "text": [
            "1 2 3 4 5 6 7 8 9 10 "
          ]
        }
      ]
    },
    {
      "cell_type": "markdown",
      "source": [
        "Q13.Write a Python program to find the sum of all even numbers between 1 and 50."
      ],
      "metadata": {
        "id": "sESmVHrwnc0g"
      }
    },
    {
      "cell_type": "code",
      "source": [
        "number=1\n",
        "total=0\n",
        "while number<=50:\n",
        "  if number%2==0:\n",
        "    total=total+number\n",
        "  number=number+1\n",
        "print(\"sum of even nos from 1 to 50 is: \",total)"
      ],
      "metadata": {
        "colab": {
          "base_uri": "https://localhost:8080/"
        },
        "id": "_hvrxgeQnl-2",
        "outputId": "d44edb0b-1c48-42fd-c768-712894c00ea2"
      },
      "execution_count": 32,
      "outputs": [
        {
          "output_type": "stream",
          "name": "stdout",
          "text": [
            "sum of even nos from 1 to 50 is:  650\n"
          ]
        }
      ]
    },
    {
      "cell_type": "markdown",
      "source": [
        "Q14. Write a program to reverse a string using a while loop"
      ],
      "metadata": {
        "id": "PMl76NUzpC6q"
      }
    },
    {
      "cell_type": "code",
      "source": [],
      "metadata": {
        "colab": {
          "base_uri": "https://localhost:8080/",
          "height": 235
        },
        "id": "CM30JkmM1En1",
        "outputId": "ffd7b579-ff42-4e7a-d90c-45e4778b3b7b"
      },
      "execution_count": 35,
      "outputs": [
        {
          "name": "stdout",
          "output_type": "stream",
          "text": [
            "enter a string: hmm\n"
          ]
        },
        {
          "output_type": "error",
          "ename": "TypeError",
          "evalue": "object of type 'int' has no len()",
          "traceback": [
            "\u001b[0;31m---------------------------------------------------------------------------\u001b[0m",
            "\u001b[0;31mTypeError\u001b[0m                                 Traceback (most recent call last)",
            "\u001b[0;32m/tmp/ipython-input-1901607959.py\u001b[0m in \u001b[0;36m<cell line: 0>\u001b[0;34m()\u001b[0m\n\u001b[1;32m      2\u001b[0m \u001b[0mreversed_text\u001b[0m\u001b[0;34m=\u001b[0m \u001b[0;34m\"\"\u001b[0m\u001b[0;34m\u001b[0m\u001b[0;34m\u001b[0m\u001b[0m\n\u001b[1;32m      3\u001b[0m \u001b[0mindex\u001b[0m\u001b[0;34m=\u001b[0m\u001b[0mlen\u001b[0m\u001b[0;34m(\u001b[0m\u001b[0mtext\u001b[0m\u001b[0;34m)\u001b[0m\u001b[0;34m\u001b[0m\u001b[0;34m\u001b[0m\u001b[0m\n\u001b[0;32m----> 4\u001b[0;31m \u001b[0mindex\u001b[0m\u001b[0;34m=\u001b[0m \u001b[0mlen\u001b[0m\u001b[0;34m(\u001b[0m\u001b[0mindex\u001b[0m\u001b[0;34m)\u001b[0m\u001b[0;34m-\u001b[0m\u001b[0;36m1\u001b[0m\u001b[0;34m\u001b[0m\u001b[0;34m\u001b[0m\u001b[0m\n\u001b[0m\u001b[1;32m      5\u001b[0m \u001b[0;32mwhile\u001b[0m \u001b[0mindex\u001b[0m\u001b[0;34m>=\u001b[0m\u001b[0;36m0\u001b[0m\u001b[0;34m:\u001b[0m\u001b[0;34m\u001b[0m\u001b[0;34m\u001b[0m\u001b[0m\n\u001b[1;32m      6\u001b[0m   \u001b[0mreversed_text\u001b[0m \u001b[0;34m=\u001b[0m \u001b[0mreversed_text\u001b[0m \u001b[0;34m+\u001b[0m \u001b[0mtext\u001b[0m\u001b[0;34m[\u001b[0m\u001b[0mindex\u001b[0m\u001b[0;34m]\u001b[0m\u001b[0;34m\u001b[0m\u001b[0;34m\u001b[0m\u001b[0m\n",
            "\u001b[0;31mTypeError\u001b[0m: object of type 'int' has no len()"
          ]
        }
      ]
    },
    {
      "cell_type": "markdown",
      "source": [
        "Q15.factorial of a number using a while loop."
      ],
      "metadata": {
        "id": "0enkQE-w13Iv"
      }
    },
    {
      "cell_type": "code",
      "source": [
        "num=int(input(\"enter a number: \"))\n",
        "factorial=1\n",
        "i=1\n",
        "while i<=num:\n",
        "  factorial=factorial*i\n",
        "  i=i+1\n",
        "print(\"factorial of\", num,\"is: \", factorial)"
      ],
      "metadata": {
        "colab": {
          "base_uri": "https://localhost:8080/"
        },
        "id": "tGU0hK_R1-Vh",
        "outputId": "93438c67-be5b-4399-8596-912d2a8dfdf2"
      },
      "execution_count": 36,
      "outputs": [
        {
          "output_type": "stream",
          "name": "stdout",
          "text": [
            "enter a number: 5\n",
            "factorial of 5 is:  120\n"
          ]
        }
      ]
    }
  ]
}